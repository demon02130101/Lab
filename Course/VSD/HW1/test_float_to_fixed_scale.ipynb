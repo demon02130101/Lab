{
  "cells": [
    {
      "cell_type": "code",
      "execution_count": null,
      "metadata": {
        "id": "XFEvAP0IRaU-"
      },
      "outputs": [],
      "source": [
        "import json\n",
        "from quantutils import float_to_fixed_scale\n",
        "import numpy as np\n",
        "\n",
        "act_scalesDict_test = {'conv1.conv': np.array([0.016]), 'conv3.conv': np.array([0.084]), 'conv5.conv': np.array([0.106]), 'fc6.fc': np.array([0.093]), 'output.fc': np.array([0.312]), 'quant': np.array([0.0068]) }\n",
        "weight_scalesDict_test = { 'conv1.conv': np.array([0.0048]), 'conv3.conv': np.array([0.0062]), 'conv5.conv': np.array([0.0061]), 'fc6.fc': np.array([0.0062]), 'output.fc': np.array([0.0077])}\n",
        "outputBias_float_test = np.array([[-0.091, -0.088, -0.0584, 0.0552, -0.039,0.0192, -0.026, -0.103, -0.001, 0.0883]])\n",
        "scalesDict_golden = {'quant': 147.0, 'conv1.conv': 134.0, 'conv3.conv': 77.0, 'conv5.conv': 317.0, 'fc6.fc': 463.0, 'output.fc': 150.0}\n",
        "outputBias_golden = np.array([[-127., -123., -82., 77., -54., 27., -36., -144., -1., 123.]])\n",
        "\n",
        "scalesDict_out, outputBias_out = float_to_fixed_scale(act_scalesDict_test, weight_scalesDict_test, outputBias_float_test)\n",
        "\n",
        "scalesDict_golden_values = list(scalesDict_golden.values())\n",
        "scalesDict_out_values = list(scalesDict_out.values())\n",
        "\n",
        "if(np.array_equal(scalesDict_golden,scalesDict_out) and np.array_equal(outputBias_golden, outputBias_out)): print(\"Your function float_to_fixed_scale is correct!\")\n",
        "elif(np.allclose(scalesDict_golden_values, scalesDict_out_values, atol=1) and np.allclose(outputBias_golden, outputBias_out, atol=1)): print(\"Your function float_to_fixed_scale has some acceptable rounding errors.\")\n",
        "else: print(\"Your function float_to_fixed_scale is wrong!\\n\")"
      ]
    }
  ],
  "metadata": {
    "language_info": {
      "name": "python"
    },
    "colab": {
      "provenance": []
    }
  },
  "nbformat": 4,
  "nbformat_minor": 0
}